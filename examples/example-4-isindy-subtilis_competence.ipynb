{
 "cells": [
  {
   "cell_type": "markdown",
   "metadata": {},
   "source": [
    "# Demo: Implicit SINDy example subtilis_competence"
   ]
  },
  {
   "cell_type": "markdown",
   "metadata": {},
   "source": [
    "### created by Yi Chu, 12/05/18"
   ]
  },
  {
   "cell_type": "code",
   "execution_count": 1,
   "metadata": {},
   "outputs": [],
   "source": [
    "import os\n",
    "import sys\n",
    "module_path = os.path.abspath(os.path.join('..'))\n",
    "if module_path not in sys.path:\n",
    "    sys.path.append(module_path)"
   ]
  },
  {
   "cell_type": "code",
   "execution_count": 2,
   "metadata": {},
   "outputs": [],
   "source": [
    "import numpy as np\n",
    "import scipy as sp\n",
    "import scipy.integrate as integrate\n",
    "import matplotlib.pyplot as plt\n",
    "from pySINDy.sindypde import SINDyPDE\n",
    "from pySINDy.isindy import ISINDy"
   ]
  },
  {
   "cell_type": "markdown",
   "metadata": {},
   "source": [
    "##### generate our system"
   ]
  },
  {
   "cell_type": "code",
   "execution_count": 3,
   "metadata": {},
   "outputs": [],
   "source": [
    "def subtilis_competence(t, S):\n",
    "    _s_1 = S[0]\n",
    "\n",
    "    a1 = 0.6\n",
    "\n",
    "    v1 = a1 - (1.5 * _s_1) / (0.3 + _s_1)\n",
    "\n",
    "    return [v1]"
   ]
  },
  {
   "cell_type": "code",
   "execution_count": 4,
   "metadata": {},
   "outputs": [],
   "source": [
    "n = 1\n",
    "dt = 0.1\n",
    "tspan = np.arange(0, 5 + dt, dt)\n",
    "len_t = len(tspan)\n",
    "\n",
    "sss = 100\n",
    "np.random.seed(12345)\n",
    "Sinit = np.random.rand(n)\n",
    "Sinit = np.random.rand(sss,n)\n",
    "Sinit = np.concatenate((Sinit, 2*np.random.rand(sss,n)))\n",
    "Sinit = np.concatenate((Sinit, 3*np.random.rand(sss,n)))\n",
    "measure = len(Sinit)\n",
    "\n",
    "tt = np.empty((len_t,measure))\n",
    "x = np.empty((len_t,n,measure))\n",
    "for ii in range(measure - 1):\n",
    "    sol = integrate.solve_ivp(subtilis_competence, [0, len_t], Sinit[ii,:],\n",
    "                                 t_eval=tspan, rtol = 1e-7, atol = 1e-7)\n",
    "    tt[:,ii] = sol.t\n",
    "    x[:,:,ii] = sol.y.T\n",
    "\n",
    "xn = x\n",
    "xt = np.empty((0,n))\n",
    "dxt= np.empty(xt.shape)\n",
    "t = np.empty((0,))\n",
    "dxf = np.empty((len_t,n,measure))\n",
    "for ll in range (measure):\n",
    "    for ii in range(len_t):\n",
    "        dxf[ii,:,ll] = subtilis_competence(t,xn[ii,:, ll])\n",
    "    \n",
    "    dxt = np.concatenate((dxt, dxf[:,:,ll]))\n",
    "    xt = np.concatenate((xt, xn[:,:,ll]))\n",
    "    t = np.concatenate((t, tt[:, ll]))"
   ]
  },
  {
   "cell_type": "markdown",
   "metadata": {},
   "source": [
    "##### create isindy model"
   ]
  },
  {
   "cell_type": "code",
   "execution_count": 5,
   "metadata": {},
   "outputs": [
    {
     "name": "stderr",
     "output_type": "stream",
     "text": [
      "/Library/Frameworks/Python.framework/Versions/3.6/lib/python3.6/site-packages/findiff/findiff.py:242: FutureWarning: Using a non-tuple sequence for multidimensional indexing is deprecated; use `arr[tuple(seq)]` instead of `arr[seq]`. In the future this will be interpreted as an array index, `arr[np.array(seq)]`, which will result either in an error or a different result.\n",
      "  yd[ref_multi_slice] += w * y[off_multi_slice]\n"
     ]
    }
   ],
   "source": [
    "isindy_model = ISINDy(name = 'isindy')\n",
    "data = isindy_model.fit(xt.T, 0.01, poly_degree=2)"
   ]
  },
  {
   "cell_type": "markdown",
   "metadata": {},
   "source": [
    "##### find and plot coefficients"
   ]
  },
  {
   "cell_type": "code",
   "execution_count": 6,
   "metadata": {},
   "outputs": [
    {
     "data": {
      "text/plain": [
       "array([[ 0.39219851],\n",
       "       [-0.61828644],\n",
       "       [ 0.        ],\n",
       "       [ 0.43279567],\n",
       "       [-0.52591673],\n",
       "       [ 0.        ]])"
      ]
     },
     "execution_count": 6,
     "metadata": {},
     "output_type": "execute_result"
    }
   ],
   "source": [
    "isindy_model.coefficients()"
   ]
  },
  {
   "cell_type": "code",
   "execution_count": 7,
   "metadata": {},
   "outputs": [
    {
     "data": {
      "text/plain": [
       "['1', 'u0', 'u0^{2}', 'uk_{t}', 'u0uk_{t}', 'u0^{2}uk_{t}']"
      ]
     },
     "execution_count": 7,
     "metadata": {},
     "output_type": "execute_result"
    }
   ],
   "source": [
    "isindy_model.descriptions()"
   ]
  },
  {
   "cell_type": "code",
   "execution_count": 8,
   "metadata": {},
   "outputs": [
    {
     "data": {
      "image/png": "[encoded data removed]",
      "text/plain": [
       "<Figure size 2000x400 with 1 Axes>"
      ]
     },
     "metadata": {},
     "output_type": "display_data"
    }
   ],
   "source": [
    "isindy_model.plot_coefficients()"
   ]
  },
  {
   "cell_type": "code",
   "execution_count": null,
   "metadata": {},
   "outputs": [],
   "source": []
  }
 ],
 "metadata": {
  "kernelspec": {
   "display_name": "Python 3",
   "language": "python",
   "name": "python3"
  },
  "language_info": {
   "codemirror_mode": {
    "name": "ipython",
    "version": 3
   },
   "file_extension": ".py",
   "mimetype": "text/x-python",
   "name": "python",
   "nbconvert_exporter": "python",
   "pygments_lexer": "ipython3",
   "version": "3.6.4"
  }
 },
 "nbformat": 4,
 "nbformat_minor": 2
}
