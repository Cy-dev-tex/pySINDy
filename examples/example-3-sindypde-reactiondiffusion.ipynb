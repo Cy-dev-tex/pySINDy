{
 "cells": [
  {
   "cell_type": "markdown",
   "metadata": {},
   "source": [
    "# Demo: Reaction Diffusion Equation (PDE)"
   ]
  },
  {
   "cell_type": "markdown",
   "metadata": {},
   "source": [
    "### created by Yuying Liu, 11/30/18"
   ]
  },
  {
   "cell_type": "code",
   "execution_count": 1,
   "metadata": {},
   "outputs": [],
   "source": [
    "import os\n",
    "import sys\n",
    "module_path = os.path.abspath(os.path.join('..'))\n",
    "if module_path not in sys.path:\n",
    "    sys.path.append(module_path)"
   ]
  },
  {
   "cell_type": "code",
   "execution_count": 2,
   "metadata": {},
   "outputs": [],
   "source": [
    "from pySINDy.sindypde import SINDyPDE\n",
    "import scipy.io as sio\n",
    "import numpy as np"
   ]
  },
  {
   "cell_type": "code",
   "execution_count": 3,
   "metadata": {},
   "outputs": [
    {
     "data": {
      "text/plain": [
       "dict_keys(['__header__', '__version__', '__globals__', 't', 'u', 'v', 'x', 'y'])"
      ]
     },
     "execution_count": 3,
     "metadata": {},
     "output_type": "execute_result"
    }
   ],
   "source": [
    "data = sio.loadmat('../datasets/reaction_diffusion.mat')\n",
    "data.keys()"
   ]
  },
  {
   "cell_type": "code",
   "execution_count": 4,
   "metadata": {},
   "outputs": [],
   "source": [
    "U = np.real(data['u'])\n",
    "V = np.real(data['v'])\n",
    "t = np.real(data['t'].flatten())\n",
    "x = np.real(data['x'].flatten())\n",
    "y = np.real(data['y'].flatten())\n",
    "dt = t[1] - t[0]\n",
    "dx = x[1] - x[0]\n",
    "dy = y[1] - y[0]"
   ]
  },
  {
   "cell_type": "code",
   "execution_count": 5,
   "metadata": {},
   "outputs": [],
   "source": [
    "model = SINDyPDE(name='SINDyPDE model for Reaction-Diffusion Eqn')"
   ]
  },
  {
   "cell_type": "code",
   "execution_count": 6,
   "metadata": {},
   "outputs": [
    {
     "name": "stdout",
     "output_type": "stream",
     "text": [
      "Progress: finished computing time derivatives  ...\n",
      "Progress: finished computing spatial derivatives  ...\n",
      "[[ 3.21709772e-01 -2.99042370e-02]\n",
      " [ 1.46412314e-01 -8.56033343e-01]\n",
      " [ 9.22469039e-01  1.29699036e-01]\n",
      " [-3.48974326e-01  1.71287658e-02]\n",
      " [ 3.89229953e-02  2.97586416e-02]\n",
      " [-3.19415624e-01  6.29615108e-02]\n",
      " [ 4.23793704e-01 -4.96436374e-01]\n",
      " [ 9.85209872e-01 -7.54755464e-01]\n",
      " [ 4.46679756e-01  1.11398974e-01]\n",
      " [ 1.99106903e-01  5.29895616e-01]\n",
      " [ 2.44105211e-01  3.32984077e-01]\n",
      " [ 8.88100481e-01  7.04209927e-01]\n",
      " [ 8.81728729e-01  1.07211025e+00]\n",
      " [ 1.91334361e-02  8.10563032e-02]\n",
      " [-5.51813432e-01  4.12660555e-02]\n",
      " [-3.07884082e-01  1.14048364e-01]\n",
      " [ 8.58242048e-02 -5.14559766e-02]\n",
      " [ 3.43358580e-01  1.12641817e-01]\n",
      " [ 1.39778076e-02 -9.10164808e-05]\n",
      " [ 2.37910963e-02  4.46262970e-02]\n",
      " [ 3.70650250e-02  2.08724109e-02]\n",
      " [ 5.70711001e-03  1.87484403e-02]\n",
      " [ 4.44840869e-02  4.73115245e-02]\n",
      " [ 9.97340368e-03  2.59233455e-03]\n",
      " [-9.65177210e-03  2.16108453e-02]\n",
      " [ 3.17967050e-02  3.57505166e-03]\n",
      " [ 3.56446315e-02  3.04286966e-03]\n",
      " [-4.81709796e-02 -8.17333202e-03]\n",
      " [-1.81064683e-02  4.78202264e-03]\n",
      " [-4.22497167e-02 -5.86018666e-02]\n",
      " [-4.09586652e-02 -1.51361124e-02]\n",
      " [ 5.67256375e-02 -7.33690799e-02]\n",
      " [ 2.76630707e-01  6.44124482e-02]\n",
      " [ 2.38304601e-03  2.67471546e-03]\n",
      " [ 2.88126312e-02  4.53463689e-02]\n",
      " [ 5.64004026e-02  2.61469035e-02]\n",
      " [-3.43133127e-01  6.69447827e-01]\n",
      " [-1.54502157e+00  5.84219926e-01]\n",
      " [-3.95328304e-01 -1.21805255e-01]\n",
      " [-2.90525936e-01 -6.38586251e-01]\n",
      " [-1.99622361e-01 -4.02650291e-01]\n",
      " [-1.03567058e+00 -8.26320455e-01]\n",
      " [-1.08168484e+00 -1.27681751e+00]\n",
      " [-2.23073875e-02  2.70413799e-02]\n",
      " [ 5.89186055e-01 -3.98518660e-02]\n",
      " [ 3.26116886e-01 -3.42902484e-02]\n",
      " [ 4.37641062e-02 -1.00053217e-01]\n",
      " [ 4.04204775e-01  1.55486236e-02]\n",
      " [ 7.87886961e-03 -5.92877121e-03]\n",
      " [ 6.26039773e-02  3.12654261e-02]\n",
      " [ 7.61417582e-02  3.45853830e-02]\n",
      " [ 1.08734865e-01  1.08541402e-01]\n",
      " [-3.84809690e-01 -2.57088093e-01]\n",
      " [ 6.12975887e-03 -2.61322627e-03]\n",
      " [-4.57180975e-02 -1.94797727e-02]\n",
      " [ 5.12159449e-03 -2.77694260e-02]\n",
      " [-4.41991721e-01  5.58810713e-01]\n",
      " [-1.16589815e+00  8.39038958e-01]\n",
      " [-4.04842038e-01 -1.16923450e-01]\n",
      " [-2.51505431e-01 -6.22225496e-01]\n",
      " [-2.01992761e-01 -3.74546576e-01]\n",
      " [-9.89350705e-01 -9.24079127e-01]\n",
      " [-6.82561712e-01 -1.26313189e+00]\n",
      " [-2.02924581e-02  2.29750003e-02]\n",
      " [ 6.48139770e-01 -8.77857246e-03]\n",
      " [ 4.06760475e-01  5.16067346e-03]]\n",
      "Progress: finished sparse regression  ...\n"
     ]
    },
    {
     "data": {
      "text/plain": [
       "<pySINDy.sindypde.SINDyPDE at 0x1081a9a58>"
      ]
     },
     "execution_count": 6,
     "metadata": {},
     "output_type": "execute_result"
    }
   ],
   "source": [
    "U1 = U[100:200, 100:200, 200:230]\n",
    "V1 = V[100:200, 100:200, 200:230]\n",
    "model.fit({'u': U1, 'v': V1}, dt, [dx, dy], space_deriv_order=2, poly_degree=2, sample_rate=0.01, cut_off=0.05, deriv_acc=5)"
   ]
  },
  {
   "cell_type": "code",
   "execution_count": 7,
   "metadata": {},
   "outputs": [
    {
     "name": "stdout",
     "output_type": "stream",
     "text": [
      "['v', 'u_{x}', 'u^{2}u_{x}', 'v^{2}u_{x}']\n",
      "['u', 'u^{2}u_{y}', 'uvv_{y}']\n"
     ]
    }
   ],
   "source": [
    "activated1 = [model.descriptions[i] for i in np.arange(model.coefficients.shape[0]) if model.coefficients[i, 0] != 0]\n",
    "activated2 = [model.descriptions[i] for i in np.arange(model.coefficients.shape[0]) if model.coefficients[i, 1] != 0]\n",
    "\n",
    "print(activated1)\n",
    "print(activated2)"
   ]
  },
  {
   "cell_type": "code",
   "execution_count": 8,
   "metadata": {},
   "outputs": [
    {
     "data": {
      "text/plain": [
       "array([[ 0.        ,  0.        ],\n",
       "       [ 0.        , -0.92137034],\n",
       "       [ 0.92193465,  0.        ],\n",
       "       [ 0.        ,  0.        ],\n",
       "       [ 0.        ,  0.        ],\n",
       "       [ 0.        ,  0.        ],\n",
       "       [ 0.27625992,  0.        ],\n",
       "       [ 0.        ,  0.        ],\n",
       "       [ 0.        ,  0.        ],\n",
       "       [ 0.        ,  0.        ],\n",
       "       [ 0.        ,  0.        ],\n",
       "       [ 0.        ,  0.        ],\n",
       "       [ 0.        ,  0.        ],\n",
       "       [ 0.        ,  0.        ],\n",
       "       [ 0.        ,  0.        ],\n",
       "       [ 0.        ,  0.        ],\n",
       "       [ 0.        ,  0.        ],\n",
       "       [ 0.        ,  0.        ],\n",
       "       [ 0.        ,  0.        ],\n",
       "       [ 0.        ,  0.        ],\n",
       "       [ 0.        ,  0.        ],\n",
       "       [ 0.        ,  0.        ],\n",
       "       [ 0.        ,  0.        ],\n",
       "       [ 0.        ,  0.        ],\n",
       "       [ 0.        ,  0.        ],\n",
       "       [ 0.        ,  0.        ],\n",
       "       [ 0.        ,  0.        ],\n",
       "       [ 0.        ,  0.        ],\n",
       "       [ 0.        ,  0.        ],\n",
       "       [ 0.        ,  0.        ],\n",
       "       [ 0.        ,  0.        ],\n",
       "       [ 0.        ,  0.        ],\n",
       "       [ 0.        ,  0.        ],\n",
       "       [ 0.        ,  0.        ],\n",
       "       [ 0.        ,  0.        ],\n",
       "       [ 0.        ,  0.        ],\n",
       "       [-0.31547761,  0.        ],\n",
       "       [ 0.        , -0.58589279],\n",
       "       [ 0.        ,  0.        ],\n",
       "       [ 0.        ,  0.        ],\n",
       "       [ 0.        ,  0.        ],\n",
       "       [ 0.        ,  0.        ],\n",
       "       [ 0.        ,  0.        ],\n",
       "       [ 0.        ,  0.        ],\n",
       "       [ 0.        ,  0.        ],\n",
       "       [ 0.        ,  0.        ],\n",
       "       [ 0.        ,  0.        ],\n",
       "       [ 0.        ,  0.        ],\n",
       "       [ 0.        ,  0.        ],\n",
       "       [ 0.        ,  0.        ],\n",
       "       [ 0.        ,  0.        ],\n",
       "       [ 0.        ,  0.        ],\n",
       "       [ 0.        , -0.58802184],\n",
       "       [ 0.        ,  0.        ],\n",
       "       [ 0.        ,  0.        ],\n",
       "       [ 0.        ,  0.        ],\n",
       "       [-0.30804585,  0.        ],\n",
       "       [ 0.        ,  0.        ],\n",
       "       [ 0.        ,  0.        ],\n",
       "       [ 0.        ,  0.        ],\n",
       "       [ 0.        ,  0.        ],\n",
       "       [ 0.        ,  0.        ],\n",
       "       [ 0.        ,  0.        ],\n",
       "       [ 0.        ,  0.        ],\n",
       "       [ 0.        ,  0.        ],\n",
       "       [ 0.        ,  0.        ]])"
      ]
     },
     "execution_count": 8,
     "metadata": {},
     "output_type": "execute_result"
    }
   ],
   "source": [
    "model.coefficients"
   ]
  },
  {
   "cell_type": "code",
   "execution_count": 9,
   "metadata": {},
   "outputs": [
    {
     "data": {
      "text/plain": [
       "['1',\n",
       " 'u',\n",
       " 'v',\n",
       " 'u^{2}',\n",
       " 'uv',\n",
       " 'v^{2}',\n",
       " 'u_{x}',\n",
       " 'u_{y}',\n",
       " 'u_{xx}',\n",
       " 'u_{xy}',\n",
       " 'u_{yy}',\n",
       " 'v_{x}',\n",
       " 'v_{y}',\n",
       " 'v_{xx}',\n",
       " 'v_{xy}',\n",
       " 'v_{yy}',\n",
       " 'uu_{x}',\n",
       " 'uu_{y}',\n",
       " 'uu_{xx}',\n",
       " 'uu_{xy}',\n",
       " 'uu_{yy}',\n",
       " 'uv_{x}',\n",
       " 'uv_{y}',\n",
       " 'uv_{xx}',\n",
       " 'uv_{xy}',\n",
       " 'uv_{yy}',\n",
       " 'vu_{x}',\n",
       " 'vu_{y}',\n",
       " 'vu_{xx}',\n",
       " 'vu_{xy}',\n",
       " 'vu_{yy}',\n",
       " 'vv_{x}',\n",
       " 'vv_{y}',\n",
       " 'vv_{xx}',\n",
       " 'vv_{xy}',\n",
       " 'vv_{yy}',\n",
       " 'u^{2}u_{x}',\n",
       " 'u^{2}u_{y}',\n",
       " 'u^{2}u_{xx}',\n",
       " 'u^{2}u_{xy}',\n",
       " 'u^{2}u_{yy}',\n",
       " 'u^{2}v_{x}',\n",
       " 'u^{2}v_{y}',\n",
       " 'u^{2}v_{xx}',\n",
       " 'u^{2}v_{xy}',\n",
       " 'u^{2}v_{yy}',\n",
       " 'uvu_{x}',\n",
       " 'uvu_{y}',\n",
       " 'uvu_{xx}',\n",
       " 'uvu_{xy}',\n",
       " 'uvu_{yy}',\n",
       " 'uvv_{x}',\n",
       " 'uvv_{y}',\n",
       " 'uvv_{xx}',\n",
       " 'uvv_{xy}',\n",
       " 'uvv_{yy}',\n",
       " 'v^{2}u_{x}',\n",
       " 'v^{2}u_{y}',\n",
       " 'v^{2}u_{xx}',\n",
       " 'v^{2}u_{xy}',\n",
       " 'v^{2}u_{yy}',\n",
       " 'v^{2}v_{x}',\n",
       " 'v^{2}v_{y}',\n",
       " 'v^{2}v_{xx}',\n",
       " 'v^{2}v_{xy}',\n",
       " 'v^{2}v_{yy}']"
      ]
     },
     "execution_count": 9,
     "metadata": {},
     "output_type": "execute_result"
    }
   ],
   "source": [
    "model.descriptions"
   ]
  },
  {
   "cell_type": "code",
   "execution_count": 10,
   "metadata": {},
   "outputs": [
    {
     "name": "stdout",
     "output_type": "stream",
     "text": [
      "finished time derivative computation!\n",
      "[[ 9.99999846e-02  1.09273326e-08]\n",
      " [ 9.99999844e-02  1.07524593e-08]\n",
      " [ 1.02667562e-09  9.99999859e-02]\n",
      " [ 1.88288691e-10  9.99999863e-02]\n",
      " [ 9.99999865e-01  9.36612204e-09]\n",
      " [ 7.65191450e-08  9.99999789e-01]\n",
      " [-9.99999868e-01 -1.00000000e+00]\n",
      " [ 9.99999920e-01 -9.99999783e-01]\n",
      " [-9.99999868e-01 -1.00000000e+00]\n",
      " [ 9.99999920e-01 -9.99999784e-01]]\n"
     ]
    }
   ],
   "source": [
    "from findiff import FinDiff\n",
    "deriv_acc = 5\n",
    "\n",
    "U1 = U[100:200, 100:200, 200:230]\n",
    "V1 = V[100:200, 100:200, 200:230]\n",
    "\n",
    "d1_dt = FinDiff(U1.ndim-1, dt, 1, acc=deriv_acc)\n",
    "d2_xx = FinDiff(0, dx, 2, acc=deriv_acc)\n",
    "d2_yy = FinDiff(1, dy, 2, acc=deriv_acc)\n",
    "\n",
    "u_t = d1_dt(U1).flatten()\n",
    "v_t = d1_dt(V1).flatten()\n",
    "x_t = np.vstack([u_t, v_t]).T\n",
    "print('finished time derivative computation!')\n",
    "\n",
    "u_xx = d2_xx(U1).flatten()\n",
    "u_yy = d2_yy(U1).flatten()\n",
    "v_xx = d2_xx(V1).flatten()\n",
    "v_yy = d2_yy(V1).flatten()\n",
    "u = U1.flatten()\n",
    "v = V1.flatten()\n",
    "uv2 = (U1*V1*V1).flatten()\n",
    "u2v = (U1*U1*V1).flatten()\n",
    "u3 = (U1*U1*U1).flatten()\n",
    "v3 = (V1*V1*V1).flatten()\n",
    "\n",
    "lib = np.vstack([u_xx, u_yy, v_xx, v_yy, u, v, uv2, u2v, u3, v3]).T\n",
    "\n",
    "print(np.linalg.lstsq(lib, x_t, rcond=None)[0])"
   ]
  },
  {
   "cell_type": "code",
   "execution_count": null,
   "metadata": {},
   "outputs": [],
   "source": []
  },
  {
   "cell_type": "code",
   "execution_count": null,
   "metadata": {},
   "outputs": [],
   "source": []
  },
  {
   "cell_type": "code",
   "execution_count": null,
   "metadata": {},
   "outputs": [],
   "source": []
  },
  {
   "cell_type": "code",
   "execution_count": null,
   "metadata": {},
   "outputs": [],
   "source": []
  },
  {
   "cell_type": "code",
   "execution_count": null,
   "metadata": {},
   "outputs": [],
   "source": []
  }
 ],
 "metadata": {
  "kernelspec": {
   "display_name": "Python 3",
   "language": "python",
   "name": "python3"
  },
  "language_info": {
   "codemirror_mode": {
    "name": "ipython",
    "version": 3
   },
   "file_extension": ".py",
   "mimetype": "text/x-python",
   "name": "python",
   "nbconvert_exporter": "python",
   "pygments_lexer": "ipython3",
   "version": "3.6.5"
  }
 },
 "nbformat": 4,
 "nbformat_minor": 2
}
